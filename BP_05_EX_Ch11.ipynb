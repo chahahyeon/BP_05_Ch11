{
  "nbformat": 4,
  "nbformat_minor": 0,
  "metadata": {
    "colab": {
      "provenance": [],
      "authorship_tag": "ABX9TyP9wqQ1Z0941aFEj2L7Oxff",
      "include_colab_link": true
    },
    "kernelspec": {
      "name": "python3",
      "display_name": "Python 3"
    },
    "language_info": {
      "name": "python"
    }
  },
  "cells": [
    {
      "cell_type": "markdown",
      "metadata": {
        "id": "view-in-github",
        "colab_type": "text"
      },
      "source": [
        "<a href=\"https://colab.research.google.com/github/chahahyeon/BP_05_Ch11/blob/main/BP_05_EX_Ch11.ipynb\" target=\"_parent\"><img src=\"https://colab.research.google.com/assets/colab-badge.svg\" alt=\"Open In Colab\"/></a>"
      ]
    },
    {
      "cell_type": "code",
      "execution_count": 6,
      "metadata": {
        "colab": {
          "base_uri": "https://localhost:8080/",
          "height": 113
        },
        "id": "VKbhoOrgjdSi",
        "outputId": "214d237c-6bf6-4c8d-ef9e-c8af5c30a038"
      },
      "outputs": [
        {
          "output_type": "display_data",
          "data": {
            "text/plain": [
              "<IPython.core.display.HTML object>"
            ],
            "text/html": [
              "\n",
              "     <input type=\"file\" id=\"files-fd45bd86-23e8-4c91-84d6-52a7e8bfe193\" name=\"files[]\" multiple disabled\n",
              "        style=\"border:none\" />\n",
              "     <output id=\"result-fd45bd86-23e8-4c91-84d6-52a7e8bfe193\">\n",
              "      Upload widget is only available when the cell has been executed in the\n",
              "      current browser session. Please rerun this cell to enable.\n",
              "      </output>\n",
              "      <script>// Copyright 2017 Google LLC\n",
              "//\n",
              "// Licensed under the Apache License, Version 2.0 (the \"License\");\n",
              "// you may not use this file except in compliance with the License.\n",
              "// You may obtain a copy of the License at\n",
              "//\n",
              "//      http://www.apache.org/licenses/LICENSE-2.0\n",
              "//\n",
              "// Unless required by applicable law or agreed to in writing, software\n",
              "// distributed under the License is distributed on an \"AS IS\" BASIS,\n",
              "// WITHOUT WARRANTIES OR CONDITIONS OF ANY KIND, either express or implied.\n",
              "// See the License for the specific language governing permissions and\n",
              "// limitations under the License.\n",
              "\n",
              "/**\n",
              " * @fileoverview Helpers for google.colab Python module.\n",
              " */\n",
              "(function(scope) {\n",
              "function span(text, styleAttributes = {}) {\n",
              "  const element = document.createElement('span');\n",
              "  element.textContent = text;\n",
              "  for (const key of Object.keys(styleAttributes)) {\n",
              "    element.style[key] = styleAttributes[key];\n",
              "  }\n",
              "  return element;\n",
              "}\n",
              "\n",
              "// Max number of bytes which will be uploaded at a time.\n",
              "const MAX_PAYLOAD_SIZE = 100 * 1024;\n",
              "\n",
              "function _uploadFiles(inputId, outputId) {\n",
              "  const steps = uploadFilesStep(inputId, outputId);\n",
              "  const outputElement = document.getElementById(outputId);\n",
              "  // Cache steps on the outputElement to make it available for the next call\n",
              "  // to uploadFilesContinue from Python.\n",
              "  outputElement.steps = steps;\n",
              "\n",
              "  return _uploadFilesContinue(outputId);\n",
              "}\n",
              "\n",
              "// This is roughly an async generator (not supported in the browser yet),\n",
              "// where there are multiple asynchronous steps and the Python side is going\n",
              "// to poll for completion of each step.\n",
              "// This uses a Promise to block the python side on completion of each step,\n",
              "// then passes the result of the previous step as the input to the next step.\n",
              "function _uploadFilesContinue(outputId) {\n",
              "  const outputElement = document.getElementById(outputId);\n",
              "  const steps = outputElement.steps;\n",
              "\n",
              "  const next = steps.next(outputElement.lastPromiseValue);\n",
              "  return Promise.resolve(next.value.promise).then((value) => {\n",
              "    // Cache the last promise value to make it available to the next\n",
              "    // step of the generator.\n",
              "    outputElement.lastPromiseValue = value;\n",
              "    return next.value.response;\n",
              "  });\n",
              "}\n",
              "\n",
              "/**\n",
              " * Generator function which is called between each async step of the upload\n",
              " * process.\n",
              " * @param {string} inputId Element ID of the input file picker element.\n",
              " * @param {string} outputId Element ID of the output display.\n",
              " * @return {!Iterable<!Object>} Iterable of next steps.\n",
              " */\n",
              "function* uploadFilesStep(inputId, outputId) {\n",
              "  const inputElement = document.getElementById(inputId);\n",
              "  inputElement.disabled = false;\n",
              "\n",
              "  const outputElement = document.getElementById(outputId);\n",
              "  outputElement.innerHTML = '';\n",
              "\n",
              "  const pickedPromise = new Promise((resolve) => {\n",
              "    inputElement.addEventListener('change', (e) => {\n",
              "      resolve(e.target.files);\n",
              "    });\n",
              "  });\n",
              "\n",
              "  const cancel = document.createElement('button');\n",
              "  inputElement.parentElement.appendChild(cancel);\n",
              "  cancel.textContent = 'Cancel upload';\n",
              "  const cancelPromise = new Promise((resolve) => {\n",
              "    cancel.onclick = () => {\n",
              "      resolve(null);\n",
              "    };\n",
              "  });\n",
              "\n",
              "  // Wait for the user to pick the files.\n",
              "  const files = yield {\n",
              "    promise: Promise.race([pickedPromise, cancelPromise]),\n",
              "    response: {\n",
              "      action: 'starting',\n",
              "    }\n",
              "  };\n",
              "\n",
              "  cancel.remove();\n",
              "\n",
              "  // Disable the input element since further picks are not allowed.\n",
              "  inputElement.disabled = true;\n",
              "\n",
              "  if (!files) {\n",
              "    return {\n",
              "      response: {\n",
              "        action: 'complete',\n",
              "      }\n",
              "    };\n",
              "  }\n",
              "\n",
              "  for (const file of files) {\n",
              "    const li = document.createElement('li');\n",
              "    li.append(span(file.name, {fontWeight: 'bold'}));\n",
              "    li.append(span(\n",
              "        `(${file.type || 'n/a'}) - ${file.size} bytes, ` +\n",
              "        `last modified: ${\n",
              "            file.lastModifiedDate ? file.lastModifiedDate.toLocaleDateString() :\n",
              "                                    'n/a'} - `));\n",
              "    const percent = span('0% done');\n",
              "    li.appendChild(percent);\n",
              "\n",
              "    outputElement.appendChild(li);\n",
              "\n",
              "    const fileDataPromise = new Promise((resolve) => {\n",
              "      const reader = new FileReader();\n",
              "      reader.onload = (e) => {\n",
              "        resolve(e.target.result);\n",
              "      };\n",
              "      reader.readAsArrayBuffer(file);\n",
              "    });\n",
              "    // Wait for the data to be ready.\n",
              "    let fileData = yield {\n",
              "      promise: fileDataPromise,\n",
              "      response: {\n",
              "        action: 'continue',\n",
              "      }\n",
              "    };\n",
              "\n",
              "    // Use a chunked sending to avoid message size limits. See b/62115660.\n",
              "    let position = 0;\n",
              "    do {\n",
              "      const length = Math.min(fileData.byteLength - position, MAX_PAYLOAD_SIZE);\n",
              "      const chunk = new Uint8Array(fileData, position, length);\n",
              "      position += length;\n",
              "\n",
              "      const base64 = btoa(String.fromCharCode.apply(null, chunk));\n",
              "      yield {\n",
              "        response: {\n",
              "          action: 'append',\n",
              "          file: file.name,\n",
              "          data: base64,\n",
              "        },\n",
              "      };\n",
              "\n",
              "      let percentDone = fileData.byteLength === 0 ?\n",
              "          100 :\n",
              "          Math.round((position / fileData.byteLength) * 100);\n",
              "      percent.textContent = `${percentDone}% done`;\n",
              "\n",
              "    } while (position < fileData.byteLength);\n",
              "  }\n",
              "\n",
              "  // All done.\n",
              "  yield {\n",
              "    response: {\n",
              "      action: 'complete',\n",
              "    }\n",
              "  };\n",
              "}\n",
              "\n",
              "scope.google = scope.google || {};\n",
              "scope.google.colab = scope.google.colab || {};\n",
              "scope.google.colab._files = {\n",
              "  _uploadFiles,\n",
              "  _uploadFilesContinue,\n",
              "};\n",
              "})(self);\n",
              "</script> "
            ]
          },
          "metadata": {}
        },
        {
          "output_type": "stream",
          "name": "stdout",
          "text": [
            "Saving 영어과제.txt to 영어과제.txt\n",
            "파일 이름을 입력하세요: 영어과제.txt\n",
            "파일 안에는 총  4413 개의 글자가 있습니다.\n"
          ]
        }
      ],
      "source": [
        "from google.colab import files # 내 컴퓨터의 파일을 코랩에 업로드해서\n",
        "uploaded = files.upload() # 처리 하는 부분입니다.\n",
        "filename = input(\"파일 이름을 입력하세요: \").strip()\n",
        "infile = open(filename, \"r\")\n",
        "count = 0\n",
        "for line in infile:\n",
        " for ch in line:\n",
        "   count += 1\n",
        "print(\"파일 안에는 총 \", count , \"개의 글자가 있습니다.\")\n",
        "infile.close() # 파일을 닫는다."
      ]
    },
    {
      "cell_type": "code",
      "source": [
        "infilename = input(\"파일 이름을 입력하시오: \").strip()\n",
        "infile = open(infilename, \"r\")\n",
        "file_s = infile.read()\n",
        "removed_s = input(\"삭제할 문자열을 입력하시오: \").strip()\n",
        "modified_s = file_s.replace(removed_s, \"\")\n",
        "infile.close()\n",
        "outfile = open(infilename, \"w\")\n",
        "print(modified_s, file = outfile, end = \"\")\n",
        "print(\"변경된 파일이 저장되었습니다.\")\n",
        "outfile.close()"
      ],
      "metadata": {
        "colab": {
          "base_uri": "https://localhost:8080/"
        },
        "id": "Wiaebk7ulbyt",
        "outputId": "9c7ce3ed-33be-499c-d1a0-fe0c12585d81"
      },
      "execution_count": 7,
      "outputs": [
        {
          "output_type": "stream",
          "name": "stdout",
          "text": [
            "파일 이름을 입력하시오: 영어과제.txt\n",
            "삭제할 문자열을 입력하시오: very\n",
            "변경된 파일이 저장되었습니다.\n"
          ]
        }
      ]
    },
    {
      "cell_type": "code",
      "source": [
        "infile = open(filename, \"r\")\n",
        "for line in infile:\n",
        "  def countLine(line, counter):\n",
        "    for ch in line:\n",
        "      if ch.isalpha():\n",
        "        if ch in counter:\n",
        "          counter[ch] = counter[ch] + 1\n",
        "        else:\n",
        "          counter[ch] = 1\n",
        "fname = input(\"입력 파일 이름: \").strip()\n",
        "infile = open(fname, \"r\")\n",
        "my_dict = { }\n",
        "for line in infile:\n",
        " countLine(line, my_dict)\n",
        "print(my_dict)\n",
        "infile.close()\n"
      ],
      "metadata": {
        "colab": {
          "base_uri": "https://localhost:8080/"
        },
        "id": "Qdbxj2Kil5AT",
        "outputId": "e1208da7-5ac2-456a-a9e8-b1e977c5db9f"
      },
      "execution_count": 9,
      "outputs": [
        {
          "output_type": "stream",
          "name": "stdout",
          "text": [
            "입력 파일 이름: 영어과제.txt\n",
            "{'v': 26, 'a': 148, 'r': 110, 'i': 148, 'e': 262, 't': 162, 'y': 43, '명': 22, '사': 61, '다': 66, '양': 2, '성': 1, '개': 7, '동': 16, '형': 12, '용': 15, '부': 17, 'T': 16, 'h': 77, 'w': 34, 'l': 92, 'n': 123, 'd': 55, 's': 119, 'o': 131, 'm': 52, 'g': 30, 'f': 42, '습': 2, '지': 12, '는': 35, '아': 6, '주': 6, '한': 15, '야': 5, '생': 3, '물': 3, '의': 13, '서': 11, '식': 3, '이': 22, 'p': 43, 'b': 22, '책': 3, '임': 2, '있': 12, 'H': 9, '그': 25, '직': 5, '원': 4, '채': 2, '과': 10, '해': 10, '고': 16, '를': 12, '맡': 1, '었': 7, '만': 5, '족': 2, '하': 17, 'W': 6, '호': 2, '텔': 2, '에': 20, '받': 2, '은': 23, '품': 1, '스': 6, '러': 3, '웠': 1, '을': 21, '으': 7, '로': 13, '여': 5, '기': 7, '평': 2, '가': 22, 'I': 7, '나': 7, '능': 1, '력': 2, '대': 9, '단': 1, '히': 4, '높': 2, '했': 9, '우': 11, 'c': 62, '최': 4, '모': 5, '델': 1, '들': 11, '타': 3, '너': 2, '노': 3, '등': 1, '소': 4, '비': 4, 'u': 53, '무': 2, '많': 3, '시': 7, '간': 8, '레': 2, '전': 2, '보': 8, '면': 3, '낸': 1, '뢰': 1, '인': 6, '객': 2, 'R': 1, 'z': 1, '리': 14, '츠': 1, '점': 2, '심': 5, '계': 2, '약': 6, '갱': 1, '신': 2, '할': 7, '때': 6, '되': 4, '어': 5, '현': 4, '장': 5, 'x': 5, '학': 2, '자': 6, '발': 3, '굴': 3, '왔': 1, '공': 4, '급': 8, '회': 3, '더': 1, '낮': 1, '격': 1, '제': 8, '업': 2, '체': 1, '새': 2, '견': 1, '증': 2, '게': 4, '구': 4, '수': 9, '방': 6, '유': 1, '일': 6, '선': 3, '상': 8, '황': 2, '위': 2, '진': 3, '애': 2, '썼': 1, '법': 4, 'j': 2, 'k': 10, '효': 1, '도': 1, '르': 2, '오': 1, '정': 4, '문': 6, '안': 3, '거': 4, '못': 2, '뜻': 1, '낼': 1, 'B': 1, '빌': 1, '셀': 1, '줄': 2, '른': 1, '항': 4, 'C': 2, 'A': 1, '건': 1, '송': 1, '조': 2, '합': 1, '협': 1, '외': 1, '근': 6, '금': 3, '표': 1, 'D': 1, '요': 7, '초': 1, '봉': 1, '섯': 1, '넘': 2, '세': 4, '곳': 1, '내': 2, '알': 2, '려': 4, '엔': 1, '났': 2, '중': 4, '예': 3, '떠': 1, '경': 2, '쟁': 2, '팀': 1, 'q': 2, '필': 4, '완': 1, '살': 2, '핌': 1, '관': 1, '적': 2, '험': 1, '극': 2, '복': 2, 'E': 1, '든': 4, '람': 1, '운': 3, '먹': 1, '것': 7, '논': 1, '빨': 2, '곧': 2, 'S': 2, '녀': 2, '데': 2, '역': 2, 'M': 2, '분': 1, '저': 2, '언': 2, '젠': 1, 'Z': 1, '잠': 1, '았': 1, '재': 3, '입': 5, '니': 3, '통': 3, '출': 2, '융': 1, '엉': 1, '망': 1, '꼬': 1, 'O': 2, '국': 1, '뒤': 1, '처': 2, '같': 2, '특': 1, '힘': 2, '싫': 1, '감': 1, '당': 1, '광': 2, '치': 2, '래': 1, '속': 2, '산': 1, '둘': 1, '볼': 1, 'P': 1, '확': 1, '긴': 1, '활': 1, '음': 1, '달': 1, '작': 1, '화': 3, '옷': 2, '컬': 1, '담': 1, '럽': 1, '끔': 2, '혼': 2, '좋': 1, '루': 1, '두': 1, '트': 1, '릴': 1, '잡': 1, '피': 1, '찍': 1, '곤': 1, '참': 1, '석': 1, '교': 1, '닌': 1, '된': 1, '켓': 1, '늘': 1, '솟': 1, '색': 1}\n"
          ]
        }
      ]
    },
    {
      "cell_type": "code",
      "source": [
        "import pickle\n",
        "outfile = open(\"test.dat\", \"wb\")\n",
        "pickle.dump(12, outfile)\n",
        "pickle.dump(3.14, outfile)\n",
        "pickle.dump([1, 2, 3, 4, 5], outfile)\n",
        "outfile.close() \n",
        "infile = open(\"test.dat\", \"rb\")\n",
        "print(pickle.load(infile))\n",
        "print(pickle.load(infile))\n",
        "print(pickle.load(infile))\n",
        "infile.close() \n"
      ],
      "metadata": {
        "colab": {
          "base_uri": "https://localhost:8080/"
        },
        "id": "ss1U0IKYmjU5",
        "outputId": "e116f963-30b9-4d87-ac3f-b1485a33f614"
      },
      "execution_count": 10,
      "outputs": [
        {
          "output_type": "stream",
          "name": "stdout",
          "text": [
            "12\n",
            "3.14\n",
            "[1, 2, 3, 4, 5]\n"
          ]
        }
      ]
    },
    {
      "cell_type": "code",
      "source": [
        "inFileName = input(\"입력 파일 이름: \")\n",
        "outFileName = input(\"출력 파일 이름: \")\n",
        "infile = open(inFileName, \"r\")\n",
        "outfile = open(outFileName, \"w\")\n",
        "total = 0.0\n",
        "count = 0\n",
        "line = infile.readline()\n",
        "while line != \"\" :\n",
        "  value = float(line)\n",
        "  total = total + value\n",
        "  count = count + 1\n",
        "  line = infile.readline()\n",
        "outfile.write(\"합계=\"+ str(total)+\"\\n\")\n",
        "\n",
        "avg = total / count\n",
        "outfile.write(\"평균=\"+ str(avg)+\"\\n\")\n",
        "infile.close()\n",
        "outfile.close()"
      ],
      "metadata": {
        "colab": {
          "base_uri": "https://localhost:8080/",
          "height": 284
        },
        "id": "h09JzjqrmogR",
        "outputId": "8cac11e4-bf34-4d81-a3e8-1848feda0c03"
      },
      "execution_count": 14,
      "outputs": [
        {
          "name": "stdout",
          "output_type": "stream",
          "text": [
            "입력 파일 이름: 영어과제.txt\n",
            "출력 파일 이름: ㅎㅎㅎ.txt\n"
          ]
        },
        {
          "output_type": "error",
          "ename": "ValueError",
          "evalue": "ignored",
          "traceback": [
            "\u001b[0;31m---------------------------------------------------------------------------\u001b[0m",
            "\u001b[0;31mValueError\u001b[0m                                Traceback (most recent call last)",
            "\u001b[0;32m<ipython-input-14-cc59265b439f>\u001b[0m in \u001b[0;36m<module>\u001b[0;34m\u001b[0m\n\u001b[1;32m      7\u001b[0m \u001b[0mline\u001b[0m \u001b[0;34m=\u001b[0m \u001b[0minfile\u001b[0m\u001b[0;34m.\u001b[0m\u001b[0mreadline\u001b[0m\u001b[0;34m(\u001b[0m\u001b[0;34m)\u001b[0m\u001b[0;34m\u001b[0m\u001b[0;34m\u001b[0m\u001b[0m\n\u001b[1;32m      8\u001b[0m \u001b[0;32mwhile\u001b[0m \u001b[0mline\u001b[0m \u001b[0;34m!=\u001b[0m \u001b[0;34m\"\"\u001b[0m \u001b[0;34m:\u001b[0m\u001b[0;34m\u001b[0m\u001b[0;34m\u001b[0m\u001b[0m\n\u001b[0;32m----> 9\u001b[0;31m   \u001b[0mvalue\u001b[0m \u001b[0;34m=\u001b[0m \u001b[0mfloat\u001b[0m\u001b[0;34m(\u001b[0m\u001b[0mline\u001b[0m\u001b[0;34m)\u001b[0m\u001b[0;34m\u001b[0m\u001b[0;34m\u001b[0m\u001b[0m\n\u001b[0m\u001b[1;32m     10\u001b[0m   \u001b[0mtotal\u001b[0m \u001b[0;34m=\u001b[0m \u001b[0mtotal\u001b[0m \u001b[0;34m+\u001b[0m \u001b[0mvalue\u001b[0m\u001b[0;34m\u001b[0m\u001b[0;34m\u001b[0m\u001b[0m\n\u001b[1;32m     11\u001b[0m   \u001b[0mcount\u001b[0m \u001b[0;34m=\u001b[0m \u001b[0mcount\u001b[0m \u001b[0;34m+\u001b[0m \u001b[0;36m1\u001b[0m\u001b[0;34m\u001b[0m\u001b[0;34m\u001b[0m\u001b[0m\n",
            "\u001b[0;31mValueError\u001b[0m: could not convert string to float: '합계=0.0\\n'"
          ]
        }
      ]
    },
    {
      "cell_type": "code",
      "source": [
        "import pickle\n",
        "from tkinter import *\n",
        "phone_book = { }\n",
        "current = 0\n",
        "name = \"\"\n",
        "phone = \"\"\n",
        "window = Tk()\n",
        "frame1 = Frame(window)\n",
        "frame1.pack()\n",
        "Label(frame1, text = \"이름 \").grid(row = 1, column = 1, sticky = W)\n",
        "nameEntry = Entry(frame1, textvariable = name, width = 30)\n",
        "nameEntry.grid(row = 1, column = 2)\n",
        "frame2 = Frame(window)\n",
        "frame2.pack()\n",
        "Label(frame2, text = \"전화번호\").grid(row = 1, column = 1, sticky = W)\n",
        "phoneEntry = Entry(frame2, textvariable = phone, width = 30)\n",
        "phoneEntry.grid(row = 1, column = 2)\n",
        "frame3 = Frame(window)\n",
        "frame3.pack()\n",
        "def save():\n",
        " outfile = open(\"phonebook.dat\", \"wb\")\n",
        " pickle.dump(phone_book, outfile)\n",
        " print(\"주소들이 파일에 저장되었습니다\")\n",
        " outfile.close()\n",
        "def load():\n",
        " infile = open(\"phonebook.dat\", \"rb\")\n",
        " phone_book = pickle.load(infile)\n",
        " infile.close()\n",
        " print(\"파일에서 주소를 읽었습니다.\")\n",
        " go_first()\n",
        "def add():\n",
        " phone_book[nameEntry.get()] = phoneEntry.get()\n",
        " print(phone_book)\n",
        " save()\n",
        "def go_first():\n",
        " global current\n",
        " current = 0\n",
        " ks = list(phone_book)\n",
        " print(phone_book)\n",
        " nameEntry.delete(0, END)\n",
        " nameEntry.insert(0, ks[current])\n",
        " phoneEntry.delete(0, END)\n",
        " phoneEntry.insert(0, phone_book[ks[current]])\n",
        "def go_next():\n",
        " global current\n",
        " current += 1\n",
        " ks = list(phone_book)\n",
        " nameEntry.delete(0, END)\n",
        " nameEntry.insert(0, ks[current])\n",
        " phoneEntry.delete(0, END)\n",
        " phoneEntry.insert(0, phone_book[ks[current]])\n",
        "def go_previous():\n",
        " print(\"구현되지 않았음\")\n",
        "def go_last():\n",
        " print(\"구현되지 않았음\")\n",
        "b1 = Button(frame3, text = \"추가\", command = add).grid(row = 1, column = 1)\n",
        "b2 = Button(frame3, text = \"처음\", command = go_first).grid(row = 1, column = 2)\n",
        "b3 = Button(frame3, text = \"다음\", command = go_next).grid(row = 1, column = 3)\n",
        "b4 = Button(frame3, text = \"이전\", command =go_previous).grid(row = 1, column = 4)\n",
        "b5 = Button(frame3, text = \"마지막\", command = go_last).grid(row = 1, column = 5)\n",
        "b6 = Button(frame3, text = \"파일 읽기\", command = load).grid(row = 1, column = 6)\n",
        "window.mainloop()\n"
      ],
      "metadata": {
        "id": "8Ux7lVFBoqYX"
      },
      "execution_count": null,
      "outputs": []
    }
  ]
}